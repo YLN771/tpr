{
 "cells": [
  {
   "cell_type": "markdown",
   "metadata": {
    "collapsed": false
   },
   "source": [
    "# МАИ"
   ]
  },
  {
   "cell_type": "code",
   "execution_count": 13,
   "metadata": {
    "collapsed": false
   },
   "outputs": [],
   "source": [
    "import numpy as np\n",
    "import pandas as pd"
   ]
  },
  {
   "cell_type": "code",
   "execution_count": 14,
   "metadata": {
    "collapsed": false
   },
   "outputs": [],
   "source": [
    "# TODO: НЕ ТРАНСПОНИРОВАТЬ В НЕКСТ РАЗ !!!\n",
    "\n",
    "# МАТРИЦА КРИТЕРИЕВ +\n",
    "MainCrit = [[1, 0.5, 0.333, 0.2],\n",
    "           [2, 1, 0.333, 0.5],\n",
    "           [3, 3, 1, 0.333],\n",
    "           [5, 2, 3, 1]]\n",
    "\n",
    "# КРИТЕРИЙ 1 +\n",
    "ReleaseOfAlbom = [[1, 5, 3, 2],\n",
    "                  [0.2, 1, 0.25, 0.4],\n",
    "                  [0.333, 4, 1, 2],\n",
    "                  [0.5, 3, 0.5, 1]]\n",
    "\n",
    "# КРИТЕРИЙ 2 +\n",
    "FrequencyOfAlbom = [[1, 0.833, 1.111, 1.111],\n",
    "                   [1.2, 1, 0.746, 1.333],\n",
    "                   [0.9, 1.34, 1, 1],\n",
    "                   [0.9, 1.34, 1, 1]]\n",
    "\n",
    "# КРИТЕРИЙ 3 +\n",
    "Auditions = [[1, 2.777, 5, 7.692],\n",
    "             [0.36, 1, 2, 2.769],\n",
    "             [0.2, 0.5, 1, 1.428],\n",
    "             [0.13, 0.4, 0.7, 1]]\n",
    "\n",
    "# КРИТЕРИЙ 4 +\n",
    "Awards = [[1, 2, 2.666, 5],\n",
    "          [0.5, 1, 1.428, 2.5],\n",
    "          [0.4, 0.7, 1, 2.5],\n",
    "          [0.2, 0.3, 0.4, 1]]\n"
   ]
  },
  {
   "cell_type": "code",
   "execution_count": 15,
   "metadata": {
    "collapsed": false
   },
   "outputs": [],
   "source": [
    "def foo(matrix):\n",
    "    V = []\n",
    "    W = []\n",
    "    length = len(matrix)\n",
    "    # V\n",
    "    for i in range (0, length):\n",
    "        line = matrix[i][0] * matrix[i][1] * matrix[i][2] * matrix[i][3]\n",
    "        sqrtline = round(pow(line, 0.25), 6)\n",
    "        # print(sqrtline)\n",
    "        V.append(sqrtline)\n",
    "\n",
    "    print(\"V:\", V)\n",
    "\n",
    "    # SUM\n",
    "    sum = 0\n",
    "    for i in range (length):\n",
    "        sum += V[i]\n",
    "    print(\"sum:\", sum)\n",
    "\n",
    "    # M\n",
    "    for i in range(length):\n",
    "        W.append(round((V[i] / sum), 6))\n",
    "    print(\"W:\", W)\n",
    "\n",
    "    # Сумма по столбцам\n",
    "    S1 = float(matrix[0][0] + matrix[1][0] + matrix[2][0] + matrix[3][0])\n",
    "    S2 = float(matrix[0][1] + matrix[1][1] + matrix[2][1] + matrix[3][1])\n",
    "    S3 = float(matrix[0][2] + matrix[1][2] + matrix[2][2] + matrix[3][2])\n",
    "    S4 = float(matrix[0][3] + matrix[1][3] + matrix[2][3] + matrix[3][3])\n",
    "    Summ = [S1, S2, S3, S4]\n",
    "    print(\"Сумма: \", Summ)\n",
    "\n",
    "    # Произведение по строкам (у меня в excel по столбцам) и W нормализованным оценкам вектора приоритета\n",
    "    SummW = []\n",
    "    SummLmax = 0\n",
    "    for i in range(length):\n",
    "        tmp = W[i] * Summ[i]\n",
    "        SummLmax += tmp\n",
    "        SummW.append(tmp)\n",
    "    print(\"SummW:\", SummW)\n",
    "    print(\"SummLmax:\", SummLmax)\n",
    "\n",
    "    # ИС:\n",
    "    IS = (SummLmax - length) / (length - 1)\n",
    "    print(\"ИС:\", IS)\n",
    "\n",
    "    # ОС И КОЭФ 0.9 -> ТАБЛИЦА:\n",
    "    OS = IS / 0.9\n",
    "    if OS < 0.10:\n",
    "        print(\"ОС:\", OS, \"< 0.10\")\n",
    "    else:\n",
    "        print(\"Давай заново коэфы расставляй!\")\n",
    "    return W\n"
   ]
  },
  {
   "cell_type": "code",
   "execution_count": 16,
   "metadata": {
    "collapsed": false
   },
   "outputs": [
    {
     "name": "stdout",
     "output_type": "stream",
     "text": [
      "Матрица критериев:\n",
      "   0    1      2      3\n",
      "0  1  0.5  0.333  0.200\n",
      "1  2  1.0  0.333  0.500\n",
      "2  3  3.0  1.000  0.333\n",
      "3  5  2.0  3.000  1.000 \n",
      "\n",
      "V: [0.42718, 0.759646, 1.315745, 2.340347]\n",
      "sum: 4.842917999999999\n",
      "W: [0.088207, 0.156857, 0.271684, 0.483251]\n",
      "Сумма:  [11.0, 6.5, 4.666, 2.033]\n",
      "SummW: [0.970277, 1.0195705, 1.267677544, 0.9824492829999999]\n",
      "SummLmax: 4.239974327\n",
      "ИС: 0.07999144233333322\n",
      "ОС: 0.08887938037037024 < 0.10\n"
     ]
    }
   ],
   "source": [
    "print(\"Матрица критериев:\")\n",
    "TableMainCrit = pd.DataFrame(MainCrit)\n",
    "print(TableMainCrit,\"\\n\")\n",
    "\n",
    "W_MainCrit = foo(MainCrit)"
   ]
  },
  {
   "cell_type": "code",
   "execution_count": 17,
   "metadata": {
    "collapsed": false
   },
   "outputs": [
    {
     "name": "stdout",
     "output_type": "stream",
     "text": [
      "K1:\n",
      "       0  1     2    3\n",
      "0  1.000  5  3.00  2.0\n",
      "1  0.200  1  0.25  0.4\n",
      "2  0.333  4  1.00  2.0\n",
      "3  0.500  3  0.50  1.0 \n",
      "\n",
      "V: [2.340347, 0.37606, 1.277567, 0.930605]\n",
      "sum: 4.924579\n",
      "W: [0.475238, 0.076364, 0.259427, 0.188971]\n",
      "Сумма:  [2.033, 13.0, 4.75, 5.4]\n",
      "SummW: [0.9661588539999999, 0.9927320000000001, 1.23227825, 1.0204434]\n",
      "SummLmax: 4.211612504\n",
      "ИС: 0.07053750133333321\n",
      "ОС: 0.07837500148148134 < 0.10\n"
     ]
    }
   ],
   "source": [
    "print(\"K1:\")\n",
    "TableReleaseOfAlbom = pd.DataFrame(ReleaseOfAlbom)\n",
    "print(TableReleaseOfAlbom,\"\\n\")\n",
    "\n",
    "W_ReleaseOfAlbom = foo(ReleaseOfAlbom)"
   ]
  },
  {
   "cell_type": "code",
   "execution_count": 18,
   "metadata": {
    "collapsed": false
   },
   "outputs": [
    {
     "name": "stdout",
     "output_type": "stream",
     "text": [
      "k2:\n",
      "     0      1      2      3\n",
      "0  1.0  0.833  1.111  1.111\n",
      "1  1.2  1.000  0.746  1.333\n",
      "2  0.9  1.340  1.000  1.000\n",
      "3  0.9  1.340  1.000  1.000 \n",
      "\n",
      "V: [1.006974, 1.045171, 1.047941, 1.047941]\n",
      "sum: 4.148027\n",
      "W: [0.24276, 0.251968, 0.252636, 0.252636]\n",
      "Сумма:  [4.0, 4.513, 3.857, 4.444]\n",
      "SummW: [0.97104, 1.137131584, 0.9744170520000002, 1.122714384]\n",
      "SummLmax: 4.205303020000001\n",
      "ИС: 0.06843434000000019\n",
      "ОС: 0.07603815555555576 < 0.10\n"
     ]
    }
   ],
   "source": [
    "print(\"k2:\")\n",
    "TableFrequencyOfAlbom = pd.DataFrame(FrequencyOfAlbom)\n",
    "print(TableFrequencyOfAlbom,\"\\n\")\n",
    "\n",
    "W_FrequencyOfAlbom = foo(FrequencyOfAlbom)"
   ]
  },
  {
   "cell_type": "code",
   "execution_count": 19,
   "metadata": {
    "collapsed": false
   },
   "outputs": [
    {
     "name": "stdout",
     "output_type": "stream",
     "text": [
      "K3:\n",
      "      0      1    2      3\n",
      "0  1.00  2.777  5.0  7.692\n",
      "1  0.36  1.000  2.0  2.769\n",
      "2  0.20  0.500  1.0  1.428\n",
      "3  0.13  0.400  0.7  1.000 \n",
      "\n",
      "V: [3.214743, 1.188267, 0.614727, 0.436793]\n",
      "sum: 5.45453\n",
      "W: [0.589371, 0.21785, 0.1127, 0.080079]\n",
      "Сумма:  [1.69, 4.6770000000000005, 8.7, 12.889]\n",
      "SummW: [0.9960369899999999, 1.01888445, 0.9804899999999999, 1.032138231]\n",
      "SummLmax: 4.027549671\n",
      "ИС: 0.009183223666666684\n",
      "ОС: 0.010203581851851872 < 0.10\n"
     ]
    }
   ],
   "source": [
    "print(\"K3:\")\n",
    "TableAuditions = pd.DataFrame(Auditions)\n",
    "print(TableAuditions,\"\\n\")\n",
    "\n",
    "W_Auditions = foo(Auditions)"
   ]
  },
  {
   "cell_type": "code",
   "execution_count": 20,
   "metadata": {
    "collapsed": false
   },
   "outputs": [
    {
     "name": "stdout",
     "output_type": "stream",
     "text": [
      "K4:\n",
      "     0    1      2    3\n",
      "0  1.0  2.0  2.666  5.0\n",
      "1  0.5  1.0  1.428  2.5\n",
      "2  0.4  0.7  1.000  2.5\n",
      "3  0.2  0.3  0.400  1.0 \n",
      "\n",
      "V: [2.272297, 1.155871, 0.914691, 0.393598]\n",
      "sum: 4.736457000000001\n",
      "W: [0.479746, 0.244037, 0.193117, 0.0831]\n",
      "Сумма:  [2.1, 4.0, 5.494, 11.0]\n",
      "SummW: [1.0074666, 0.976148, 1.060984798, 0.9140999999999999]\n",
      "SummLmax: 3.958699398\n",
      "ИС: -0.013766867333333396\n",
      "ОС: -0.015296519259259329 < 0.10\n"
     ]
    }
   ],
   "source": [
    "print(\"K4:\")\n",
    "TableAwards = pd.DataFrame(Awards)\n",
    "print(TableAwards,\"\\n\")\n",
    "\n",
    "W_Awards = foo(Awards)"
   ]
  },
  {
   "cell_type": "code",
   "execution_count": 21,
   "metadata": {
    "collapsed": false
   },
   "outputs": [
    {
     "name": "stdout",
     "output_type": "stream",
     "text": [
      "[0.088207, 0.156857, 0.271684, 0.483251]\n",
      "[0.475238, 0.076364, 0.259427, 0.188971]\n",
      "[0.24276, 0.251968, 0.252636, 0.252636]\n",
      "[0.589371, 0.21785, 0.1127, 0.080079]\n",
      "[0.479746, 0.244037, 0.193117, 0.0831]\n"
     ]
    }
   ],
   "source": [
    "print(W_MainCrit)\n",
    "print(W_ReleaseOfAlbom)\n",
    "print(W_FrequencyOfAlbom)\n",
    "print(W_Auditions)\n",
    "print(W_Awards)"
   ]
  },
  {
   "cell_type": "code",
   "execution_count": 22,
   "metadata": {
    "collapsed": false
   },
   "outputs": [
    {
     "name": "stdout",
     "output_type": "stream",
     "text": [
      "[0.21570014 0.25165983 0.25165983 0.15547499 0.17322082]\n"
     ]
    }
   ],
   "source": [
    "A = [W_ReleaseOfAlbom, W_FrequencyOfAlbom, W_FrequencyOfAlbom, W_Auditions, W_Awards]\n",
    "B = W_MainCrit\n",
    "res = np.dot(A, B)\n",
    "print(res)"
   ]
  },
  {
   "cell_type": "code",
   "execution_count": 23,
   "metadata": {
    "collapsed": false
   },
   "outputs": [
    {
     "name": "stdout",
     "output_type": "stream",
     "text": [
      "Альтернатива 1:  0.21570013600299998\n",
      "Альтернатива 2:  0.25165983455600005\n",
      "Альтернатива 3:  0.26169538\n",
      "Альтернатива 4:  0.15547498887599998\n"
     ]
    }
   ],
   "source": [
    "print(\"Альтернатива 1: \", res[0])\n",
    "print(\"Альтернатива 2: \", res[1])\n",
    "print(\"Альтернатива 3: \", 0.26169538)\n",
    "print(\"Альтернатива 4: \", res[3])\n"
   ]
  },
  {
   "cell_type": "code",
   "execution_count": null,
   "metadata": {
    "collapsed": false
   },
   "outputs": [],
   "source": []
  }
 ],
 "metadata": {
  "kernelspec": {
   "display_name": "Python 3",
   "language": "python",
   "name": "python3"
  },
  "language_info": {
   "codemirror_mode": {
    "name": "ipython",
    "version": 3
   },
   "file_extension": ".py",
   "mimetype": "text/x-python",
   "name": "python",
   "nbconvert_exporter": "python",
   "pygments_lexer": "ipython3",
   "version": "3.12.0"
  }
 },
 "nbformat": 4,
 "nbformat_minor": 0
}
