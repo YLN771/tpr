{
 "cells": [
  {
   "cell_type": "markdown",
   "metadata": {
    "collapsed": false
   },
   "source": [
    "# Практическая № 1\n",
    "\n",
    "План:\n",
    "1) Отношение Парето-Доминирования\n",
    "2) Метод указания верхних/нижних границ критериев\n",
    "3) Метод субоптимизации\n",
    "4) Метод лексикографической оптимизации"
   ]
  },
  {
   "cell_type": "markdown",
   "metadata": {
    "collapsed": false
   },
   "source": [
    "# Отношение Парето-Доминирования"
   ]
  },
  {
   "cell_type": "markdown",
   "metadata": {
    "collapsed": false
   },
   "source": [
    "Примечание:\n",
    "Знаком (-) указывается отрицательное стремление критерия (чем меньше, тем лучше)\n",
    "знаком (+) – положительное (чем больше, тем лучше)\n",
    "\n",
    "alternative[i][2] <= alternative[j][2] - чем меньше, тем лучше\n",
    "alternative[i][3] <= alternative[j][3] - чем меньше, тем лучше\n",
    "alternative[i][4] <= alternative[j][4] - чем больше, тем лучше\n",
    "alternative[i][5] <= alternative[j][5] - чем больше, тем лучше"
   ]
  },
  {
   "cell_type": "code",
   "execution_count": 15,
   "metadata": {
    "collapsed": false
   },
   "outputs": [],
   "source": [
    "import pandas as pd"
   ]
  },
  {
   "cell_type": "code",
   "execution_count": 23,
   "metadata": {
    "collapsed": true
   },
   "outputs": [
    {
     "data": {
      "text/html": [
       "<div>\n",
       "<style scoped>\n",
       "    .dataframe tbody tr th:only-of-type {\n",
       "        vertical-align: middle;\n",
       "    }\n",
       "\n",
       "    .dataframe tbody tr th {\n",
       "        vertical-align: top;\n",
       "    }\n",
       "\n",
       "    .dataframe thead th {\n",
       "        text-align: right;\n",
       "    }\n",
       "</style>\n",
       "<table border=\"1\" class=\"dataframe\">\n",
       "  <thead>\n",
       "    <tr style=\"text-align: right;\">\n",
       "      <th></th>\n",
       "      <th>Название видеокарт</th>\n",
       "      <th>Цена (-)</th>\n",
       "      <th>Вес (-)</th>\n",
       "      <th>Турбочастота (+)</th>\n",
       "      <th>Объем видеопамяти (+)</th>\n",
       "    </tr>\n",
       "  </thead>\n",
       "  <tbody>\n",
       "    <tr>\n",
       "      <th>0</th>\n",
       "      <td>Palit GeForce RTX 3060 StormX</td>\n",
       "      <td>30499</td>\n",
       "      <td>460</td>\n",
       "      <td>1777</td>\n",
       "      <td>8</td>\n",
       "    </tr>\n",
       "    <tr>\n",
       "      <th>1</th>\n",
       "      <td>INNO3D GeForce RTX 3060 TWIN X2 OC</td>\n",
       "      <td>36499</td>\n",
       "      <td>733</td>\n",
       "      <td>1792</td>\n",
       "      <td>12</td>\n",
       "    </tr>\n",
       "    <tr>\n",
       "      <th>2</th>\n",
       "      <td>KFA2 GeForce RTX 3060 X White</td>\n",
       "      <td>37799</td>\n",
       "      <td>858</td>\n",
       "      <td>1822</td>\n",
       "      <td>12</td>\n",
       "    </tr>\n",
       "    <tr>\n",
       "      <th>3</th>\n",
       "      <td>MSI GeForce RTX 3060 VENTUS 2X OC</td>\n",
       "      <td>42499</td>\n",
       "      <td>675</td>\n",
       "      <td>1807</td>\n",
       "      <td>12</td>\n",
       "    </tr>\n",
       "    <tr>\n",
       "      <th>4</th>\n",
       "      <td>KFA2 GeForce RTX 3060 CORE</td>\n",
       "      <td>34799</td>\n",
       "      <td>630</td>\n",
       "      <td>1792</td>\n",
       "      <td>8</td>\n",
       "    </tr>\n",
       "    <tr>\n",
       "      <th>5</th>\n",
       "      <td>Palit GeForce RTX 3060 Dual OC</td>\n",
       "      <td>36799</td>\n",
       "      <td>580</td>\n",
       "      <td>1837</td>\n",
       "      <td>12</td>\n",
       "    </tr>\n",
       "    <tr>\n",
       "      <th>6</th>\n",
       "      <td>MSI GeForce RTX 3060 GAMING X</td>\n",
       "      <td>39999</td>\n",
       "      <td>996</td>\n",
       "      <td>1837</td>\n",
       "      <td>12</td>\n",
       "    </tr>\n",
       "    <tr>\n",
       "      <th>7</th>\n",
       "      <td>GIGABYTE GeForce RTX 3060 GAMING OC</td>\n",
       "      <td>39499</td>\n",
       "      <td>608</td>\n",
       "      <td>1807</td>\n",
       "      <td>8</td>\n",
       "    </tr>\n",
       "    <tr>\n",
       "      <th>8</th>\n",
       "      <td>GIGABYTE GeForce RTX 3060 WINDFORCE OC</td>\n",
       "      <td>36899</td>\n",
       "      <td>470</td>\n",
       "      <td>1837</td>\n",
       "      <td>12</td>\n",
       "    </tr>\n",
       "  </tbody>\n",
       "</table>\n",
       "</div>"
      ],
      "text/plain": [
       "                       Название видеокарт  Цена (-)  Вес (-)  \\\n",
       "0           Palit GeForce RTX 3060 StormX     30499      460   \n",
       "1      INNO3D GeForce RTX 3060 TWIN X2 OC     36499      733   \n",
       "2           KFA2 GeForce RTX 3060 X White     37799      858   \n",
       "3       MSI GeForce RTX 3060 VENTUS 2X OC     42499      675   \n",
       "4              KFA2 GeForce RTX 3060 CORE     34799      630   \n",
       "5          Palit GeForce RTX 3060 Dual OC     36799      580   \n",
       "6           MSI GeForce RTX 3060 GAMING X     39999      996   \n",
       "7     GIGABYTE GeForce RTX 3060 GAMING OC     39499      608   \n",
       "8  GIGABYTE GeForce RTX 3060 WINDFORCE OC     36899      470   \n",
       "\n",
       "   Турбочастота (+)  Объем видеопамяти (+)  \n",
       "0              1777                      8  \n",
       "1              1792                     12  \n",
       "2              1822                     12  \n",
       "3              1807                     12  \n",
       "4              1792                      8  \n",
       "5              1837                     12  \n",
       "6              1837                     12  \n",
       "7              1807                      8  \n",
       "8              1837                     12  "
      ]
     },
     "execution_count": 23,
     "metadata": {},
     "output_type": "execute_result"
    }
   ],
   "source": [
    "\n",
    "url = \"Z:/MY_PROJECTS/dsProject/TPR/ParetoDataSet.xlsx\"\n",
    "\n",
    "dataframe_xlsx = pd.read_excel(url)\n",
    "\n",
    "url_csv = dataframe_xlsx.to_csv(\"DataSetParetoCSV.csv\", index = None, header = True)\n",
    "\n",
    "dataframe = pd.DataFrame(pd.read_csv(\"DataSetParetoCSV.csv\"))\n",
    "\n",
    "dataframe"
   ]
  },
  {
   "cell_type": "code",
   "execution_count": 24,
   "metadata": {
    "collapsed": false
   },
   "outputs": [
    {
     "data": {
      "text/plain": [
       "{(6, 'Palit GeForce RTX 3060 Dual OC', 36799, 580, 1837, 12),\n",
       " (9, 'GIGABYTE GeForce RTX 3060 WINDFORCE OC', 36899, 470, 1837, 12)}"
      ]
     },
     "execution_count": 24,
     "metadata": {},
     "output_type": "execute_result"
    }
   ],
   "source": [
    "alternative = dataframe.values.tolist()\n",
    "\n",
    "for i in range (len(alternative)):\n",
    "    alternative[i].insert(0, i + 1)\n",
    "\n",
    "\n",
    "# [строка][столбец]\n",
    "def ParetoMethod(alternative):\n",
    "    result = set()\n",
    "    for i in range(len(alternative)):\n",
    "        for j in range(len(alternative)):\n",
    "            if i == j:\n",
    "                continue\n",
    "            if (alternative[i][2] <= alternative[j][2]) \\\n",
    "                    and (alternative[i][3] <= alternative[j][3]) \\\n",
    "                    and (alternative[i][4] >= alternative[j][4]) \\\n",
    "                    and (alternative[i][5] >= alternative[j][5]):\n",
    "                result.add(tuple(alternative[i]))\n",
    "    return result\n",
    "\n",
    "ParetoMethod(alternative)"
   ]
  },
  {
   "cell_type": "markdown",
   "metadata": {
    "collapsed": false
   },
   "source": [
    "# Метод указания верхних/нижних границ критериев"
   ]
  },
  {
   "cell_type": "code",
   "execution_count": 27,
   "metadata": {
    "collapsed": false
   },
   "outputs": [
    {
     "name": "stdout",
     "output_type": "stream",
     "text": [
      "{(1, 'Palit GeForce RTX 3060 StormX', 30499, 460, 1777, 8), (9, 'GIGABYTE GeForce RTX 3060 WINDFORCE OC', 36899, 470, 1837, 12)}\n"
     ]
    }
   ],
   "source": [
    "def Borders():\n",
    "\n",
    "    Upper1 = int(input(\"Выберите верхнюю границу: 2 - цена, 3 - вес, 4 - турбочастота, 5 - видеопамять\"))\n",
    "\n",
    "    Upper2 = int(input(\"Выберите верхнюю границу: 2 - цена, 3 - вес, 4 - турбочастота, 5 - видеопамять\"))\n",
    "\n",
    "    UpperWeight1 = int(input(\"Введите верхнию границу\"))\n",
    "\n",
    "    UpperWeight2 = int(input(\"Введите верхнюю границу\"))\n",
    "\n",
    "    Result = set()\n",
    "\n",
    "    for i in alternative:\n",
    "        if i[Upper1] <= UpperWeight1 and i[Upper2] <= UpperWeight2:\n",
    "            Result.add(tuple(i))\n",
    "\n",
    "    print(Result)\n",
    "\n",
    "    #ResultByPoreto = (ParetoMethod(alternative))\n",
    "    #print(ResultByPoreto)\n",
    "# 2 5\n",
    "# 6 20\n",
    "\n",
    "Borders()"
   ]
  },
  {
   "cell_type": "markdown",
   "metadata": {
    "collapsed": false
   },
   "source": [
    "# Метод субоптимизации"
   ]
  },
  {
   "cell_type": "code",
   "execution_count": 31,
   "metadata": {
    "collapsed": false
   },
   "outputs": [
    {
     "name": "stdout",
     "output_type": "stream",
     "text": [
      "Selection:  [[4, 'MSI GeForce RTX 3060 VENTUS 2X OC', 42499, 675, 1807, 12], [6, 'Palit GeForce RTX 3060 Dual OC', 36799, 580, 1837, 12], [9, 'GIGABYTE GeForce RTX 3060 WINDFORCE OC', 36899, 470, 1837, 12]]\n",
      "[9, 'GIGABYTE GeForce RTX 3060 WINDFORCE OC', 36899, 470, 1837, 12]\n"
     ]
    }
   ],
   "source": [
    "def Suboptimization():\n",
    "\n",
    "    MainKrit = int(input(\"Выберите главный критерий: 2 - цена, 3 - вес, 4 - турбочастота, 5 - видеопамять\")) \n",
    "\n",
    "    FirstMinor = int(input(\"Выберите остальные критерий: 2 - цена, 3 - вес, 4 - турбочастота, 5 - видеопамять\")) \n",
    "\n",
    "    FirstMinorWeight = int(input(\"Введите нижнюю границу критерия:\")) \n",
    "\n",
    "    SecondMinor = int(input(\"Выберите остальныекритерий: 2 - цена, 3 - вес, 4 - турбочастота, 5 - видеопамять\")) \n",
    "\n",
    "    SecondMinorWeight = float(input(\"Введите нижнюю границу критерия:\")) \n",
    "\n",
    "    ThirdMinor = int(input(\"Выберите остальные критерий: 2 - цена, 3 - вес, 4 - турбочастота, 5 - видеопамять\")) \n",
    "\n",
    "    ThirdMinorWeight = int(input(\"Введите нижнюю границу критерия:\")) \n",
    "\n",
    "    Selection = []\n",
    "\n",
    "    for i in alternative:\n",
    "        if i[FirstMinor] < FirstMinorWeight and i[SecondMinor] > SecondMinorWeight and i[ThirdMinor] > ThirdMinorWeight:\n",
    "            Selection.append(i)\n",
    "\n",
    "    print(\"Selection: \", Selection)\n",
    "\n",
    "    for i in range (len(Selection)):\n",
    "        Maxval = 0\n",
    "        if Selection[i][MainKrit] > Maxval:\n",
    "            Maxval = Selection[i][MainKrit]\n",
    "            Result = Selection[i]\n",
    "\n",
    "    print(Result)\n",
    "\n",
    "Suboptimization()\n"
   ]
  },
  {
   "cell_type": "markdown",
   "metadata": {
    "collapsed": false
   },
   "source": [
    "# Метод лексикографической оптимизации"
   ]
  },
  {
   "cell_type": "code",
   "execution_count": 35,
   "metadata": {
    "collapsed": false
   },
   "outputs": [
    {
     "name": "stdout",
     "output_type": "stream",
     "text": [
      "Main Criterion:  \n",
      " [[1, 'Palit GeForce RTX 3060 StormX', 30499, 460, 1777, 8], [2, 'INNO3D GeForce RTX 3060 TWIN X2 OC', 36499, 733, 1792, 12], [5, 'KFA2 GeForce RTX 3060 CORE', 34799, 630, 1792, 8], [6, 'Palit GeForce RTX 3060 Dual OC', 36799, 580, 1837, 12]]\n",
      "Minor Criterion: \n",
      " [[6, 'Palit GeForce RTX 3060 Dual OC', 36799, 580, 1837, 12]]\n"
     ]
    }
   ],
   "source": [
    "#лексико оптимизация\n",
    "nov1 = []\n",
    "nov2 = []\n",
    "def lexoptimization():\n",
    "    q = int(input(\"Выберите главный критерий: 2 - цена, 3 - вес, 4 - турбочастота, 5 - видеопамять\")) #2\n",
    "    krit1 = int(input(\"Введите верхнюю границу главного критерия :\")) #36800\n",
    "\n",
    "    for j in alternative:\n",
    "        if j[q] <= krit1:\n",
    "            nov1.append(j)\n",
    "\n",
    "    print(\"Main Criterion: \", \"\\n\", nov1)\n",
    "\n",
    "    if len(nov1) == 1:\n",
    "        exit(0)\n",
    "    else:\n",
    "        q = int(input(\"Выберите побочный критерий: 2 - цена, 3 - вес, 4 - турбочастота, 5 - видеопамять\")) #4\n",
    "        krit1 = float(input(\"Введите верхнюю границу главного критерия :\")) #1837\n",
    "        for j in nov1:\n",
    "            if j[q] >= krit1:\n",
    "                nov2.append(j)\n",
    "    print(\"Minor Criterion:\", \"\\n\", nov2)\n",
    "\n",
    "lexoptimization()"
   ]
  }
 ],
 "metadata": {
  "kernelspec": {
   "display_name": "Python 3",
   "language": "python",
   "name": "python3"
  },
  "language_info": {
   "codemirror_mode": {
    "name": "ipython",
    "version": 3
   },
   "file_extension": ".py",
   "mimetype": "text/x-python",
   "name": "python",
   "nbconvert_exporter": "python",
   "pygments_lexer": "ipython3",
   "version": "3.12.0"
  }
 },
 "nbformat": 4,
 "nbformat_minor": 0
}
